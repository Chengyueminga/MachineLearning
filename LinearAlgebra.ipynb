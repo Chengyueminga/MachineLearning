{
 "cells": [
  {
   "cell_type": "markdown",
   "metadata": {},
   "source": [
    "# Linear Albegra Review and Reference"
   ]
  },
  {
   "cell_type": "markdown",
   "metadata": {},
   "source": [
    "## 1. Basic Concepts and Notation\n",
    "## 2. Matrix Multiplication"
   ]
  },
  {
   "cell_type": "markdown",
   "metadata": {},
   "source": [
    "### 2.1 Vector-Vector Products\n",
    "#### Given two vectors $x, y \\in R^n$, the quantity $x^Ty$, sometimes called the *inner product* or *dot product*.  \n",
    "#### $x^Ty \\in R = [x_1,x_2,......,x_n][y_1,y_2,......y_n]^T = \\sum_{i=1}^{n}{x_iy_i}$"
   ]
  },
  {
   "cell_type": "markdown",
   "metadata": {},
   "source": [
    "#### **outer product**\n",
    "#### Given vectors $x\\in R^m, y \\in R^n$(not necessarily of the same size), $xy^T \\in R^{m*n}$ is called the **outer product** of the vectors. "
   ]
  },
  {
   "cell_type": "markdown",
   "metadata": {},
   "source": [
    "$$\\left[\n",
    "\\begin{matrix}\n",
    "x_1\\\\\n",
    "x_2\\\\\n",
    "...\\\\\n",
    "x_n\n",
    "\\end{matrix}\n",
    "\\right]\n",
    "        [y_1,y_2,...,y_n] = \\left[\\begin{matrix}x_1*y_1&x_1*y_2&...&x_1*y_n\\\\\n",
    "                                   x_2*y_1&x_2*y_2&...&x_2*y_n\\\\\n",
    "                                   .......\\\\\n",
    "                                   x_m*y_1&x_m*y_2&...&x_m*y_n\n",
    "                                   \\end{matrix}\n",
    "                                   \\right]$$"
   ]
  },
  {
   "cell_type": "markdown",
   "metadata": {},
   "source": [
    "### 2.2 Matrix-Vector Products\n",
    "$$ y = xA = \\left[\n",
    "              \\begin{matrix}\n",
    "              x_1,x_2 ......x_n\n",
    "              \\end{matrix}\n",
    "              \\right]\n",
    "        \\left[\n",
    "        \\begin{matrix}\n",
    "        ---a^T_1---\\\\\n",
    "        ---a^T_2---\\\\\n",
    "        .......\\\\\n",
    "        ---a^T_m---\n",
    "        \\end{matrix}\n",
    "        \\right] = x_1[---a^T_1---] + x_2[---a^T_2---]+.....+x_n[---a^T_n---]\n",
    "              $$"
   ]
  },
  {
   "cell_type": "markdown",
   "metadata": {},
   "source": [
    "### 2.3 Matrix-Matrix Products\n",
    "### C = X*Y\n",
    "$$C = XY = \\left[\\begin{matrix}x_1^T*y_1&x_1^T*y_2&...&x_1^T*y_n\\\\\n",
    "                                   x_2^T*y_1&x_2^T*y_2&...&x_2^T*y_n\\\\\n",
    "                                   .......\\\\\n",
    "                                   x_m^T*y_1&x_m^T*y_2&...&x_m^T*y_n\n",
    "                                   \\end{matrix}\n",
    "                                   \\right]\n",
    "$$"
   ]
  },
  {
   "cell_type": "markdown",
   "metadata": {},
   "source": [
    "### The direct advantage of these various viewpoints is that they allow you to operate on the level/unit of vectors instead of scalars.\n",
    "### Matrix multiplication is associative: (AB)C = A(BC)\n",
    "### Matrix multiplication is distributive: A(B + C) = A*B + A*C\n",
    "### Matrix multiplication is, in general, *not* commutative; that is, it can be the case that $AB \\not= BA$"
   ]
  },
  {
   "cell_type": "markdown",
   "metadata": {},
   "source": [
    "## 3 Operations and Properties\n",
    "### 3.1 The Identity Matrix and Diagonal Matrics\n",
    "### *identity matrix*\n",
    "$I \\in R^{n*n}$ \n",
    "$$I_{ij} = 1, i= j$$\n",
    "$$I_{ij} = 0, i \\not= j$$"
   ]
  },
  {
   "cell_type": "markdown",
   "metadata": {},
   "source": [
    "### *diagonal matrix*\n",
    "### D = diag{$d_1,d_2,...d_n$}"
   ]
  },
  {
   "cell_type": "markdown",
   "metadata": {},
   "source": [
    "### 3.2 The Transpose\n",
    "$A^T_{ij} = A{ji}$\n",
    "### The following properties of transposes are easily verfied:\n",
    "### $(A^T)^T = A$   \n",
    "### $(AB)^T = B^TA^T$  \n",
    "### $(A+B)^T = A^T + B^T$"
   ]
  },
  {
   "cell_type": "markdown",
   "metadata": {},
   "source": [
    "### 3.3 Symmetric Matrics\n",
    "### *symmetric* if $A = A ^T$  \n",
    "### *anti-symmetric* if $A = - A^T$  \n",
    "### It is easy to show that for any matrix $A \\in R ^{n*n}$, the matrix$A + A^T$ is symmetric and the matrix$A - A^T$ is anti-symmetric\n",
    "### $A = \\frac{1}{2}(A + A^T) + \\frac{1}{2}(A - A^T)$"
   ]
  },
  {
   "cell_type": "markdown",
   "metadata": {},
   "source": [
    "### 3.4 The Trace\n",
    "### $$trA = \\sum_{i = 1}^{n}A_{ii}$$\n",
    "### For $A \\in R{n*n}, trA = trA^T$\n",
    "### For $A,B \\in R^{n * n}, tr(A + B) = trA + trB$\n",
    "### For $A \\in R^{n * n}, t \\in R, tr(tA) = t*trA$\n",
    "### For$ A, B$ such that $AB$ is square, $trAB = trBA$  \n",
    "### For $A,B,C$ such that $ABC$ is square, $trAB = trBA$\n",
    "### For $A,B,C$ such that $AB$ is square,$trAB = trBA$\n",
    "### For $A,B,C$ such that $ABC$ is square, $trABC = trBCA = trCAB$, and so on for the product of more matrices."
   ]
  },
  {
   "cell_type": "markdown",
   "metadata": {},
   "source": [
    "### 3.5 Norms\n",
    "### A *norm* of a vector ||x|| is informally a measure of the \"length\" of the vector. For example, we have the commoly-used Euclidean or $\\cal l_2$ norm,\n",
    "$$||x||_2 = \\sqrt{\\sum^n_{i = 1}x^2_i}$$\n",
    "### Note that $||x||^2_2 = x^Tx$  \n",
    "### 1.For all $x \\in R^n,f(x) \\geq 0$ (non-negativity).\n",
    "### 2.$f(x) = 0$if and only if $x = 0$ (definiteness).  \n",
    "### 3.For all $x \\in R^n, t \\in R, f(tx) = |t|f(x)$ (homogeneity).\n",
    "### 4.For all$x,y \\in R^n, f(x + y) \\leq f(x) + f(y)$ (triangle inequality).\n"
   ]
  },
  {
   "cell_type": "markdown",
   "metadata": {},
   "source": [
    "### 3.6 Linear Independence and Rank\n",
    "### *(linearly) independent* \n",
    "### A set of vectors${x_1,x_2,......x_n} \\subset R^m$ is said to be *(linearly) independent* if no vector can be represented as a linear combination of the remaining vectors.\n",
    "### *(linearly) dependent*  \n",
    "### Converselt, if one vector belonging to the set can be represented as a linear combination of the remaining vectors, then the vectirs are said to be *(linearly) dependent*, That is, if  \n",
    "$$x_n = \\sum^{n - 1}_{i = 1}\\alpha_ix_i$$"
   ]
  },
  {
   "cell_type": "code",
   "execution_count": 4,
   "metadata": {},
   "outputs": [],
   "source": [
    "###Example\n",
    "import numpy as np"
   ]
  },
  {
   "cell_type": "code",
   "execution_count": 9,
   "metadata": {},
   "outputs": [],
   "source": [
    "x1 = np.matrix(\"1;2;3\")\n",
    "x2 = np.matrix(\"4;1;5\")\n",
    "x3 = np.matrix(\"2;-3;-1\")"
   ]
  },
  {
   "cell_type": "code",
   "execution_count": 10,
   "metadata": {},
   "outputs": [
    {
     "data": {
      "text/plain": [
       "matrix([[ True],\n",
       "        [ True],\n",
       "        [ True]])"
      ]
     },
     "execution_count": 10,
     "metadata": {},
     "output_type": "execute_result"
    }
   ],
   "source": [
    "x3 == -2 * x1 + x2"
   ]
  },
  {
   "cell_type": "markdown",
   "metadata": {},
   "source": [
    "### For$A \\in R^{m*n}, rand(A) \\leq min(m,n). If rank(A) = min(m,n),$ then $A$ is said to be *full rank*\n",
    "### For$A \\in R^{m*n}, rank(A) = rank(A^T)$\n",
    "### For $A \\in R^{m*n}, B \\in R^{n*p}, rank(AB) \\leq min(rank(A),rank(B))$\n",
    "### For $A,B \\in R^{m*n}, rank(A + B) \\leq rank(A) + rank(B)$"
   ]
  },
  {
   "cell_type": "code",
   "execution_count": null,
   "metadata": {},
   "outputs": [],
   "source": []
  }
 ],
 "metadata": {
  "kernelspec": {
   "display_name": "Python 3",
   "language": "python",
   "name": "python3"
  },
  "language_info": {
   "codemirror_mode": {
    "name": "ipython",
    "version": 3
   },
   "file_extension": ".py",
   "mimetype": "text/x-python",
   "name": "python",
   "nbconvert_exporter": "python",
   "pygments_lexer": "ipython3",
   "version": "3.7.1"
  }
 },
 "nbformat": 4,
 "nbformat_minor": 2
}
